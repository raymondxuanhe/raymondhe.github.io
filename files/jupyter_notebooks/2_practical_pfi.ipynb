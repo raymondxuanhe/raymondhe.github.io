{
 "cells": [
  {
   "cell_type": "markdown",
   "id": "48ac3842-ee59-497e-a7a9-23460332023e",
   "metadata": {},
   "source": [
    "# Introduction to policy-function iteration\n",
    "\n",
    "When your problem is well-behaved (as this one is)\n",
    "\n",
    "## How do I know that my solution is correct?\n",
    "One method of knowing whether our solution is correct or not is to take\n",
    "\n",
    "$$\n",
    "u'(c) = \\beta f'(k^\\prime)u'(c^\\prime)\n",
    "$$\n",
    "where $c = f(k) - k^\\prime$ and $c^\\prime = f(k^\\prime) - g(k^\\prime)$\n",
    "\n"
   ]
  }
 ],
 "metadata": {
  "kernelspec": {
   "display_name": "Julia 1.11.5",
   "language": "julia",
   "name": "julia-1.11"
  },
  "language_info": {
   "file_extension": ".jl",
   "mimetype": "application/julia",
   "name": "julia",
   "version": "1.11.5"
  }
 },
 "nbformat": 4,
 "nbformat_minor": 5
}
