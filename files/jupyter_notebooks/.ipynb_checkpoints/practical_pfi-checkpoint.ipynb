{
 "cells": [
  {
   "cell_type": "markdown",
   "id": "48ac3842-ee59-497e-a7a9-23460332023e",
   "metadata": {},
   "source": [
    "## How do I know that my solution is correct?"
   ]
  }
 ],
 "metadata": {
  "kernelspec": {
   "display_name": "Julia 1.11.5",
   "language": "julia",
   "name": "julia-1.11"
  },
  "language_info": {
   "file_extension": ".jl",
   "mimetype": "application/julia",
   "name": "julia",
   "version": "1.11.5"
  }
 },
 "nbformat": 4,
 "nbformat_minor": 5
}
