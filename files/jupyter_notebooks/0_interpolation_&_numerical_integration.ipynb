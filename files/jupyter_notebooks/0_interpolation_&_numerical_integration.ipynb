{
 "cells": [
  {
   "cell_type": "markdown",
   "id": "b7d980d0-31c6-4f82-af5b-388f9175c6e8",
   "metadata": {},
   "source": [
    "# Interpolation and Numerical Integration"
   ]
  }
 ],
 "metadata": {
  "kernelspec": {
   "display_name": "Julia 1.11.5",
   "language": "julia",
   "name": "julia-1.11"
  },
  "language_info": {
   "file_extension": ".jl",
   "mimetype": "application/julia",
   "name": "julia",
   "version": "1.11.6"
  }
 },
 "nbformat": 4,
 "nbformat_minor": 5
}
